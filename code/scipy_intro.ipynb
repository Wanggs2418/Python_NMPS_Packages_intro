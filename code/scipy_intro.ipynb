{
 "cells": [
  {
   "attachments": {},
   "cell_type": "markdown",
   "metadata": {},
   "source": [
    "## 1.图像操作\n",
    "\n",
    "`scipy.misc`：在 scipy=1.10.0 版本被抛弃，在 version=2.0.0 版本会完全移除 \n",
    "\n",
    "[具体说明](https://docs.scipy.org/doc/scipy/reference/misc.html)"
   ]
  },
  {
   "cell_type": "code",
   "execution_count": 6,
   "metadata": {},
   "outputs": [],
   "source": [
    "# Python Image Library\n",
    "from PIL import Image"
   ]
  },
  {
   "attachments": {},
   "cell_type": "markdown",
   "metadata": {},
   "source": [
    "### 使用imageio 代替\n",
    "\n",
    "提供了一个**简单的接口来读取和写入**大量的图像数据，包括动画图像、体积数据和科学格式。它是跨平台的，运行在Python 2.x和3.x上，且易于安装。"
   ]
  },
  {
   "cell_type": "code",
   "execution_count": 7,
   "metadata": {},
   "outputs": [],
   "source": [
    "# 1.代替misc来的形式之一\n",
    "# import imageio\n",
    "import imageio as iio\n",
    "import numpy as np\n",
    "# dir(imageio)"
   ]
  },
  {
   "cell_type": "code",
   "execution_count": null,
   "metadata": {},
   "outputs": [],
   "source": [
    "# a*b 和 np.dot(a, b) 的区别\n",
    "a = np.array([[1,2,3]]) #(1,3)\n",
    "b = np.array([[1],[2],[3]]) #(3,1)\n",
    "print(a*b)\n",
    "print(np.dot(a,b))"
   ]
  },
  {
   "cell_type": "code",
   "execution_count": 13,
   "metadata": {},
   "outputs": [
    {
     "name": "stderr",
     "output_type": "stream",
     "text": [
      "C:\\Users\\Wanggs\\AppData\\Local\\Temp\\ipykernel_16272\\1525029665.py:1: DeprecationWarning: Starting with ImageIO v3 the behavior of this function will switch to that of iio.v3.imread. To keep the current behavior (and make this warning disappear) use `import imageio.v2 as imageio` or call `imageio.v2.imread` directly.\n",
      "  img = iio.imread('img/01.jpg')\n"
     ]
    }
   ],
   "source": [
    "img = iio.imread('img/01.jpg')\n",
    "# print(img.dtype, img.shape)\n",
    "# print(img)\n",
    "# 各个通道乘以对应的系数，微调颜色[r, g, b]\n",
    "array_tinted = np.array([0.9, 1, 0.95],dtype=np.uint8)\n",
    "img_tinted = img * array_tinted\n",
    "\n",
    "# imageio 包不具有 resizeshape 的功能\n",
    "# img_tinted = iio.imresize(img_tinted, (300, 300))\n",
    "\n",
    "iio.imsave('img/01_tinted.jpg', img_tinted)"
   ]
  },
  {
   "attachments": {},
   "cell_type": "markdown",
   "metadata": {},
   "source": [
    "## 2.操作matlabfiles"
   ]
  },
  {
   "cell_type": "code",
   "execution_count": 14,
   "metadata": {},
   "outputs": [],
   "source": [
    "import numpy as np\n",
    "from scipy.spatial.distance import pdist, squareform"
   ]
  },
  {
   "cell_type": "code",
   "execution_count": 17,
   "metadata": {},
   "outputs": [
    {
     "name": "stdout",
     "output_type": "stream",
     "text": [
      "[[0.         1.41421356 2.23606798]\n",
      " [1.41421356 0.         1.        ]\n",
      " [2.23606798 1.         0.        ]]\n"
     ]
    }
   ],
   "source": [
    "x = np.array([[0, 1], [1, 0], [2, 0]])\n",
    "# d[i, j] is the Euclidean distance between x[i, :] and x[j, :]\n",
    "# d[0,0]->x[0,:] to x[0,:]\n",
    "d = squareform(pdist(x, 'euclidean')) #计算对应行之间的欧拉距离\n",
    "print(d)"
   ]
  }
 ],
 "metadata": {
  "kernelspec": {
   "display_name": "Python 3",
   "language": "python",
   "name": "python3"
  },
  "language_info": {
   "codemirror_mode": {
    "name": "ipython",
    "version": 3
   },
   "file_extension": ".py",
   "mimetype": "text/x-python",
   "name": "python",
   "nbconvert_exporter": "python",
   "pygments_lexer": "ipython3",
   "version": "3.8.16"
  },
  "orig_nbformat": 4
 },
 "nbformat": 4,
 "nbformat_minor": 2
}
