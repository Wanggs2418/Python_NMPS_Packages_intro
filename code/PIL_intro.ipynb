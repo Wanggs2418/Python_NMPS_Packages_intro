{
 "cells": [
  {
   "attachments": {},
   "cell_type": "markdown",
   "metadata": {},
   "source": [
    "图像的数组表示"
   ]
  },
  {
   "cell_type": "code",
   "execution_count": 7,
   "metadata": {},
   "outputs": [],
   "source": [
    "# Python Image Library\n",
    "from PIL import Image\n",
    "import numpy as np\n",
    "import matplotlib.pyplot as plt"
   ]
  },
  {
   "cell_type": "code",
   "execution_count": 12,
   "metadata": {},
   "outputs": [
    {
     "name": "stdout",
     "output_type": "stream",
     "text": [
      "(1800, 1014, 3) uint8\n"
     ]
    }
   ],
   "source": [
    "im = np.array(Image.open(\"img/01.jpg\"))\n",
    "# 生成的数组对象为 im\n",
    "# 高,宽，RGB\n",
    "print(im.shape, im.dtype)"
   ]
  },
  {
   "attachments": {},
   "cell_type": "markdown",
   "metadata": {},
   "source": [
    "图像变换"
   ]
  },
  {
   "cell_type": "code",
   "execution_count": 13,
   "metadata": {},
   "outputs": [],
   "source": [
    "# 计算 RGB 的补值\n",
    "cm = [255, 255, 255] - im\n",
    "# 变为图像\n",
    "im = Image.fromarray(cm.astype('uint8'))\n",
    "im.save(\"img/02.jpg\")"
   ]
  },
  {
   "cell_type": "code",
   "execution_count": 18,
   "metadata": {},
   "outputs": [
    {
     "name": "stdout",
     "output_type": "stream",
     "text": [
      "(1800, 1014)\n"
     ]
    }
   ],
   "source": [
    "# 变为灰度值,此时变为二维数组\n",
    "im = np.array(Image.open('img/01.jpg').convert('L'))\n",
    "print(im.shape)\n",
    "# 对灰度值取反\n",
    "cm = 255 - im\n",
    "im = Image.fromarray(cm.astype('uint8'))\n",
    "im.save('img/03.jpg')"
   ]
  },
  {
   "attachments": {},
   "cell_type": "markdown",
   "metadata": {},
   "source": [
    "手绘图像的生成"
   ]
  },
  {
   "cell_type": "code",
   "execution_count": 6,
   "metadata": {},
   "outputs": [],
   "source": [
    "a = np.array(Image.open('img/01.jpg').convert('L')).astype('float')\n",
    "depth = 10.  # (0-100)\n",
    "grad = np.gradient(a)  #图像灰度的梯度值\n",
    "grad_x, grad_y = grad\n",
    "grad_x = grad_x * depth / 100\n",
    "grad_y = grad_y * depth / 100\n",
    "A = np.sqrt(grad_x**2 + grad_y**2 + 1.)\n",
    "uni_x = grad_x / A\n",
    "uni_y = grad_y / A\n",
    "uni_z = 1. / A\n",
    "\n",
    "vec_el = np.pi / 2  #光源的俯视角度，弧度值\n",
    "vec_az = np.pi / 4\n",
    "# 光源对 x,y,z 轴的影响\n",
    "dx = np.cos(vec_el) * np.cos(vec_az)\n",
    "dy = np.cos(vec_el) * np.sin(vec_az)\n",
    "dz = np.sin(vec_el)\n",
    "\n",
    "# 光源归一化\n",
    "b = 255 * (dx*uni_x + dy*uni_y + dz*uni_z)\n",
    "b = b.clip(0, 255)\n",
    "\n",
    "im = Image.fromarray(b.astype('uint8'))\n",
    "im.save('img/001.jpg')"
   ]
  }
 ],
 "metadata": {
  "kernelspec": {
   "display_name": "Python 3",
   "language": "python",
   "name": "python3"
  },
  "language_info": {
   "codemirror_mode": {
    "name": "ipython",
    "version": 3
   },
   "file_extension": ".py",
   "mimetype": "text/x-python",
   "name": "python",
   "nbconvert_exporter": "python",
   "pygments_lexer": "ipython3",
   "version": "3.8.15"
  },
  "orig_nbformat": 4
 },
 "nbformat": 4,
 "nbformat_minor": 2
}
