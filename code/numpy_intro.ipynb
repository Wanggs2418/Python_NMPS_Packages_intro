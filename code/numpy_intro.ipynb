{
 "cells": [
  {
   "cell_type": "code",
   "execution_count": 22,
   "metadata": {},
   "outputs": [],
   "source": [
    "import numpy as np"
   ]
  },
  {
   "attachments": {},
   "cell_type": "markdown",
   "metadata": {},
   "source": [
    "### Numpy 的数组对象ndarray"
   ]
  },
  {
   "cell_type": "code",
   "execution_count": null,
   "metadata": {},
   "outputs": [],
   "source": [
    "# . 表示浮点数类型\n",
    "a = np.array([[1,2],[-1.,-2.]])"
   ]
  },
  {
   "cell_type": "code",
   "execution_count": null,
   "metadata": {},
   "outputs": [],
   "source": [
    "a.dtype"
   ]
  },
  {
   "cell_type": "code",
   "execution_count": null,
   "metadata": {},
   "outputs": [],
   "source": [
    "a.itemsize"
   ]
  },
  {
   "attachments": {},
   "cell_type": "markdown",
   "metadata": {},
   "source": [
    "创建"
   ]
  },
  {
   "cell_type": "code",
   "execution_count": null,
   "metadata": {},
   "outputs": [],
   "source": [
    "np.arange(5)"
   ]
  },
  {
   "cell_type": "code",
   "execution_count": null,
   "metadata": {},
   "outputs": [],
   "source": [
    "a = np.full([2,3], 1.)"
   ]
  },
  {
   "cell_type": "code",
   "execution_count": null,
   "metadata": {},
   "outputs": [],
   "source": [
    "b1 = a.tolist()\n",
    "\n",
    "b2 = list(a)"
   ]
  },
  {
   "cell_type": "code",
   "execution_count": null,
   "metadata": {},
   "outputs": [],
   "source": [
    "x = np.full([2,3], 'a')\n",
    "y = np.full_like(x, 100)"
   ]
  },
  {
   "cell_type": "code",
   "execution_count": null,
   "metadata": {},
   "outputs": [],
   "source": [
    "# 注意观察间距和元素个数,未给出元素个数的默认为 50 个元素\n",
    "l1 = np.linspace(1, 5, 5)\n",
    "l2 = np.linspace(1, 5, 5, endpoint=False)\n",
    "print(f\"默认包含最后一个数：{l1}\")\n",
    "print(f\"不包含最后一个数(endpoint=False)：{l2}\")"
   ]
  },
  {
   "attachments": {},
   "cell_type": "markdown",
   "metadata": {},
   "source": [
    "数据文件的读取"
   ]
  },
  {
   "cell_type": "code",
   "execution_count": null,
   "metadata": {},
   "outputs": [],
   "source": [
    "a = np.arange(100).reshape(5, 20)\n",
    "# np.savetxt('a.csv', a,  delimiter=',')\n",
    "np.savetxt('a.csv', a, fmt='%.1f', delimiter=',')"
   ]
  },
  {
   "attachments": {},
   "cell_type": "markdown",
   "metadata": {},
   "source": [
    "任意维度数据文件的写入和读取"
   ]
  },
  {
   "cell_type": "code",
   "execution_count": null,
   "metadata": {},
   "outputs": [],
   "source": [
    "b = np.arange(100).reshape(5, 10, 2)\n",
    "# a.tofile('b.dat',  format='%d') #二进制形式读取\n",
    "a.tofile('b.dat', sep=',', format='%d')"
   ]
  },
  {
   "attachments": {},
   "cell_type": "markdown",
   "metadata": {},
   "source": [
    "随机函数"
   ]
  },
  {
   "cell_type": "code",
   "execution_count": 23,
   "metadata": {},
   "outputs": [],
   "source": [
    "# [100, 200) --> shape(8, )\n",
    "a = np.random.randint(100, 200, (8,))"
   ]
  },
  {
   "cell_type": "code",
   "execution_count": 25,
   "metadata": {},
   "outputs": [
    {
     "data": {
      "text/plain": [
       "array([[184, 190],\n",
       "       [190, 175],\n",
       "       [123, 175]])"
      ]
     },
     "execution_count": 25,
     "metadata": {},
     "output_type": "execute_result"
    }
   ],
   "source": [
    "# 元素的值越大，抽取的值越高\n",
    "np.random.choice(a, (3,2), p = a / np.sum(a))"
   ]
  },
  {
   "cell_type": "code",
   "execution_count": 26,
   "metadata": {},
   "outputs": [
    {
     "data": {
      "text/plain": [
       "array([[175, 184],\n",
       "       [127, 123],\n",
       "       [184, 190]])"
      ]
     },
     "execution_count": 26,
     "metadata": {},
     "output_type": "execute_result"
    }
   ],
   "source": [
    "# 抽取时是否重用元素\n",
    "np.random.choice(a, (3,2), replace=False)"
   ]
  },
  {
   "attachments": {},
   "cell_type": "markdown",
   "metadata": {},
   "source": [
    "统计函数"
   ]
  },
  {
   "cell_type": "code",
   "execution_count": 27,
   "metadata": {},
   "outputs": [
    {
     "data": {
      "text/plain": [
       "array([2.1875, 3.1875, 4.1875, 5.1875, 6.1875])"
      ]
     },
     "execution_count": 27,
     "metadata": {},
     "output_type": "execute_result"
    }
   ],
   "source": [
    "c = np.arange(15).reshape(3, 5)\n",
    "# 权重与对应数相乘，最后除以总权重\n",
    "np.average(c, axis=0, weights=[10, 5, 1])"
   ]
  },
  {
   "cell_type": "code",
   "execution_count": 33,
   "metadata": {},
   "outputs": [
    {
     "name": "stdout",
     "output_type": "stream",
     "text": [
      "数组c为: \n",
      " [[ 0  1  2  3  4]\n",
      " [ 5  6  7  8  9]\n",
      " [10 11 12 13 14]]\n",
      "数组在axis=1的平均值为 \n",
      " [ 2.  7. 12.]\n"
     ]
    }
   ],
   "source": [
    "print(f\"数组c为: \\n {c}\")\n",
    "c1 = np.mean(c, axis=1)\n",
    "print(f\"数组在axis=1的平均值为 \\n {c1}\")"
   ]
  },
  {
   "attachments": {},
   "cell_type": "markdown",
   "metadata": {},
   "source": [
    "梯度函数"
   ]
  },
  {
   "cell_type": "code",
   "execution_count": 43,
   "metadata": {},
   "outputs": [
    {
     "name": "stdout",
     "output_type": "stream",
     "text": [
      "原数组为[ 7  6  1 10 12]\n"
     ]
    },
    {
     "data": {
      "text/plain": [
       "array([-1. , -3. ,  2. ,  5.5,  2. ])"
      ]
     },
     "execution_count": 43,
     "metadata": {},
     "output_type": "execute_result"
    }
   ],
   "source": [
    "d = np.random.randint(0, 20, (5))\n",
    "print(\"原数组为{0}\".format(d))\n",
    "#计算方法\n",
    "# -3 = (前一个-后一个)/2=(1 - 7) /2\n",
    "# 最后一个元素：(当前-上一个)/2= (12 - 10)/1\n",
    "np.gradient(d)"
   ]
  },
  {
   "cell_type": "code",
   "execution_count": 44,
   "metadata": {},
   "outputs": [
    {
     "data": {
      "text/plain": [
       "[array([[-32. ,  36. ,  -9. ,  22. ,  -2. ],\n",
       "        [ -8.5,  11.5,  13.5,  11.5,  -3. ],\n",
       "        [ 15. , -13. ,  36. ,   1. ,  -4. ]]),\n",
       " array([[-31. , -16. ,  -2. ,  13.5,  30. ],\n",
       "        [ 37. ,  -4.5,  -9. ,  17. ,   6. ],\n",
       "        [  9. ,   6. ,  -2. ,  -3. ,   1. ]])]"
      ]
     },
     "execution_count": 44,
     "metadata": {},
     "output_type": "execute_result"
    }
   ],
   "source": [
    "# 多维数组梯度\n",
    "e = np.random.randint(0, 50, (3,5))\n",
    "# 返回 2 个数组，第一个数组为第一维度的梯度值，第二个数组为第二个维度的梯度值\n",
    "np.gradient(e)"
   ]
  }
 ],
 "metadata": {
  "kernelspec": {
   "display_name": "Python 3",
   "language": "python",
   "name": "python3"
  },
  "language_info": {
   "codemirror_mode": {
    "name": "ipython",
    "version": 3
   },
   "file_extension": ".py",
   "mimetype": "text/x-python",
   "name": "python",
   "nbconvert_exporter": "python",
   "pygments_lexer": "ipython3",
   "version": "3.8.15"
  },
  "orig_nbformat": 4
 },
 "nbformat": 4,
 "nbformat_minor": 2
}
